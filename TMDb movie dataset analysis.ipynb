{
 "cells": [
  {
   "cell_type": "markdown",
   "metadata": {},
   "source": [
    "# Project: Investigate a Dataset - [TMDb movie data]\n",
    "\n",
    "## Table of Contents\n",
    "<ul>\n",
    "<li><a href=\"#intro\">Introduction</a></li>\n",
    "<li><a href=\"#wrangling\">Data Wrangling</a></li>\n",
    "<li><a href=\"#eda\">Exploratory Data Analysis</a></li>\n",
    "<li><a href=\"#conclusions\">Conclusions</a></li>\n",
    "</ul>"
   ]
  },
  {
   "cell_type": "markdown",
   "metadata": {},
   "source": [
    "<a id='intro'></a>\n",
    "# Introduction\n",
    "\n",
    "## Dataset Description \n",
    "\n",
    "This data set contains information about 10,000 movies collected from The Movie Database (TMDb), including user ratings and revenue.\n",
    "It consists of one flat file (CSV file) that we will read using pandas read_csv() function and start to understand the data inside it and build our analysis steps accordingly.\n",
    "Through this analysis we will be able to answer the following questions.\n",
    "\n",
    "\n",
    "## Question(s) for Analysis\n",
    "\n",
    "- **Which months are most popular for a movie production company to release a movie in?**\n",
    "- **How does the budget spent on a movie affect its profit?**\n",
    "- **If a movie is very popular does that mean it will produce high profit?** \n",
    "- **What is the correlation between the average movie rating and its popularity?** \n",
    "- **What is the most popular movie runtime?**\n",
    "- **How did the cinematic industry magnitude change over the years?**\n",
    "- **Statstical Findings:**\n",
    "    - Which movie had the highest revenue, budget, rating in the last 5 years?"
   ]
  },
  {
   "cell_type": "code",
   "execution_count": 1,
   "metadata": {},
   "outputs": [],
   "source": [
    "# Use this cell to set up import statements for all of the packages that you\n",
    "#   plan to use.\n",
    "import numpy as np\n",
    "import pandas as pd\n",
    "import matplotlib.pyplot as plt\n",
    "import seaborn as sas\n",
    "%matplotlib inline\n",
    "sas.set_style(\"dark\")\n"
   ]
  },
  {
   "cell_type": "markdown",
   "metadata": {},
   "source": [
    "## Data Wrangling\n"
   ]
  },
  {
   "cell_type": "code",
   "execution_count": 2,
   "metadata": {},
   "outputs": [
    {
     "data": {
      "text/html": [
       "<div>\n",
       "<style scoped>\n",
       "    .dataframe tbody tr th:only-of-type {\n",
       "        vertical-align: middle;\n",
       "    }\n",
       "\n",
       "    .dataframe tbody tr th {\n",
       "        vertical-align: top;\n",
       "    }\n",
       "\n",
       "    .dataframe thead th {\n",
       "        text-align: right;\n",
       "    }\n",
       "</style>\n",
       "<table border=\"1\" class=\"dataframe\">\n",
       "  <thead>\n",
       "    <tr style=\"text-align: right;\">\n",
       "      <th></th>\n",
       "      <th>id</th>\n",
       "      <th>imdb_id</th>\n",
       "      <th>popularity</th>\n",
       "      <th>budget</th>\n",
       "      <th>revenue</th>\n",
       "      <th>original_title</th>\n",
       "      <th>cast</th>\n",
       "      <th>homepage</th>\n",
       "      <th>director</th>\n",
       "      <th>tagline</th>\n",
       "      <th>...</th>\n",
       "      <th>overview</th>\n",
       "      <th>runtime</th>\n",
       "      <th>genres</th>\n",
       "      <th>production_companies</th>\n",
       "      <th>release_date</th>\n",
       "      <th>vote_count</th>\n",
       "      <th>vote_average</th>\n",
       "      <th>release_year</th>\n",
       "      <th>budget_adj</th>\n",
       "      <th>revenue_adj</th>\n",
       "    </tr>\n",
       "  </thead>\n",
       "  <tbody>\n",
       "    <tr>\n",
       "      <th>0</th>\n",
       "      <td>135397</td>\n",
       "      <td>tt0369610</td>\n",
       "      <td>32.985763</td>\n",
       "      <td>150000000</td>\n",
       "      <td>1513528810</td>\n",
       "      <td>Jurassic World</td>\n",
       "      <td>Chris Pratt|Bryce Dallas Howard|Irrfan Khan|Vi...</td>\n",
       "      <td>http://www.jurassicworld.com/</td>\n",
       "      <td>Colin Trevorrow</td>\n",
       "      <td>The park is open.</td>\n",
       "      <td>...</td>\n",
       "      <td>Twenty-two years after the events of Jurassic ...</td>\n",
       "      <td>124</td>\n",
       "      <td>Action|Adventure|Science Fiction|Thriller</td>\n",
       "      <td>Universal Studios|Amblin Entertainment|Legenda...</td>\n",
       "      <td>6/9/15</td>\n",
       "      <td>5562</td>\n",
       "      <td>6.5</td>\n",
       "      <td>2015</td>\n",
       "      <td>1.379999e+08</td>\n",
       "      <td>1.392446e+09</td>\n",
       "    </tr>\n",
       "    <tr>\n",
       "      <th>1</th>\n",
       "      <td>76341</td>\n",
       "      <td>tt1392190</td>\n",
       "      <td>28.419936</td>\n",
       "      <td>150000000</td>\n",
       "      <td>378436354</td>\n",
       "      <td>Mad Max: Fury Road</td>\n",
       "      <td>Tom Hardy|Charlize Theron|Hugh Keays-Byrne|Nic...</td>\n",
       "      <td>http://www.madmaxmovie.com/</td>\n",
       "      <td>George Miller</td>\n",
       "      <td>What a Lovely Day.</td>\n",
       "      <td>...</td>\n",
       "      <td>An apocalyptic story set in the furthest reach...</td>\n",
       "      <td>120</td>\n",
       "      <td>Action|Adventure|Science Fiction|Thriller</td>\n",
       "      <td>Village Roadshow Pictures|Kennedy Miller Produ...</td>\n",
       "      <td>5/13/15</td>\n",
       "      <td>6185</td>\n",
       "      <td>7.1</td>\n",
       "      <td>2015</td>\n",
       "      <td>1.379999e+08</td>\n",
       "      <td>3.481613e+08</td>\n",
       "    </tr>\n",
       "    <tr>\n",
       "      <th>2</th>\n",
       "      <td>262500</td>\n",
       "      <td>tt2908446</td>\n",
       "      <td>13.112507</td>\n",
       "      <td>110000000</td>\n",
       "      <td>295238201</td>\n",
       "      <td>Insurgent</td>\n",
       "      <td>Shailene Woodley|Theo James|Kate Winslet|Ansel...</td>\n",
       "      <td>http://www.thedivergentseries.movie/#insurgent</td>\n",
       "      <td>Robert Schwentke</td>\n",
       "      <td>One Choice Can Destroy You</td>\n",
       "      <td>...</td>\n",
       "      <td>Beatrice Prior must confront her inner demons ...</td>\n",
       "      <td>119</td>\n",
       "      <td>Adventure|Science Fiction|Thriller</td>\n",
       "      <td>Summit Entertainment|Mandeville Films|Red Wago...</td>\n",
       "      <td>3/18/15</td>\n",
       "      <td>2480</td>\n",
       "      <td>6.3</td>\n",
       "      <td>2015</td>\n",
       "      <td>1.012000e+08</td>\n",
       "      <td>2.716190e+08</td>\n",
       "    </tr>\n",
       "    <tr>\n",
       "      <th>3</th>\n",
       "      <td>140607</td>\n",
       "      <td>tt2488496</td>\n",
       "      <td>11.173104</td>\n",
       "      <td>200000000</td>\n",
       "      <td>2068178225</td>\n",
       "      <td>Star Wars: The Force Awakens</td>\n",
       "      <td>Harrison Ford|Mark Hamill|Carrie Fisher|Adam D...</td>\n",
       "      <td>http://www.starwars.com/films/star-wars-episod...</td>\n",
       "      <td>J.J. Abrams</td>\n",
       "      <td>Every generation has a story.</td>\n",
       "      <td>...</td>\n",
       "      <td>Thirty years after defeating the Galactic Empi...</td>\n",
       "      <td>136</td>\n",
       "      <td>Action|Adventure|Science Fiction|Fantasy</td>\n",
       "      <td>Lucasfilm|Truenorth Productions|Bad Robot</td>\n",
       "      <td>12/15/15</td>\n",
       "      <td>5292</td>\n",
       "      <td>7.5</td>\n",
       "      <td>2015</td>\n",
       "      <td>1.839999e+08</td>\n",
       "      <td>1.902723e+09</td>\n",
       "    </tr>\n",
       "    <tr>\n",
       "      <th>4</th>\n",
       "      <td>168259</td>\n",
       "      <td>tt2820852</td>\n",
       "      <td>9.335014</td>\n",
       "      <td>190000000</td>\n",
       "      <td>1506249360</td>\n",
       "      <td>Furious 7</td>\n",
       "      <td>Vin Diesel|Paul Walker|Jason Statham|Michelle ...</td>\n",
       "      <td>http://www.furious7.com/</td>\n",
       "      <td>James Wan</td>\n",
       "      <td>Vengeance Hits Home</td>\n",
       "      <td>...</td>\n",
       "      <td>Deckard Shaw seeks revenge against Dominic Tor...</td>\n",
       "      <td>137</td>\n",
       "      <td>Action|Crime|Thriller</td>\n",
       "      <td>Universal Pictures|Original Film|Media Rights ...</td>\n",
       "      <td>4/1/15</td>\n",
       "      <td>2947</td>\n",
       "      <td>7.3</td>\n",
       "      <td>2015</td>\n",
       "      <td>1.747999e+08</td>\n",
       "      <td>1.385749e+09</td>\n",
       "    </tr>\n",
       "  </tbody>\n",
       "</table>\n",
       "<p>5 rows × 21 columns</p>\n",
       "</div>"
      ],
      "text/plain": [
       "       id    imdb_id  popularity     budget     revenue  \\\n",
       "0  135397  tt0369610   32.985763  150000000  1513528810   \n",
       "1   76341  tt1392190   28.419936  150000000   378436354   \n",
       "2  262500  tt2908446   13.112507  110000000   295238201   \n",
       "3  140607  tt2488496   11.173104  200000000  2068178225   \n",
       "4  168259  tt2820852    9.335014  190000000  1506249360   \n",
       "\n",
       "                 original_title  \\\n",
       "0                Jurassic World   \n",
       "1            Mad Max: Fury Road   \n",
       "2                     Insurgent   \n",
       "3  Star Wars: The Force Awakens   \n",
       "4                     Furious 7   \n",
       "\n",
       "                                                cast  \\\n",
       "0  Chris Pratt|Bryce Dallas Howard|Irrfan Khan|Vi...   \n",
       "1  Tom Hardy|Charlize Theron|Hugh Keays-Byrne|Nic...   \n",
       "2  Shailene Woodley|Theo James|Kate Winslet|Ansel...   \n",
       "3  Harrison Ford|Mark Hamill|Carrie Fisher|Adam D...   \n",
       "4  Vin Diesel|Paul Walker|Jason Statham|Michelle ...   \n",
       "\n",
       "                                            homepage          director  \\\n",
       "0                      http://www.jurassicworld.com/   Colin Trevorrow   \n",
       "1                        http://www.madmaxmovie.com/     George Miller   \n",
       "2     http://www.thedivergentseries.movie/#insurgent  Robert Schwentke   \n",
       "3  http://www.starwars.com/films/star-wars-episod...       J.J. Abrams   \n",
       "4                           http://www.furious7.com/         James Wan   \n",
       "\n",
       "                         tagline  ...  \\\n",
       "0              The park is open.  ...   \n",
       "1             What a Lovely Day.  ...   \n",
       "2     One Choice Can Destroy You  ...   \n",
       "3  Every generation has a story.  ...   \n",
       "4            Vengeance Hits Home  ...   \n",
       "\n",
       "                                            overview runtime  \\\n",
       "0  Twenty-two years after the events of Jurassic ...     124   \n",
       "1  An apocalyptic story set in the furthest reach...     120   \n",
       "2  Beatrice Prior must confront her inner demons ...     119   \n",
       "3  Thirty years after defeating the Galactic Empi...     136   \n",
       "4  Deckard Shaw seeks revenge against Dominic Tor...     137   \n",
       "\n",
       "                                      genres  \\\n",
       "0  Action|Adventure|Science Fiction|Thriller   \n",
       "1  Action|Adventure|Science Fiction|Thriller   \n",
       "2         Adventure|Science Fiction|Thriller   \n",
       "3   Action|Adventure|Science Fiction|Fantasy   \n",
       "4                      Action|Crime|Thriller   \n",
       "\n",
       "                                production_companies release_date vote_count  \\\n",
       "0  Universal Studios|Amblin Entertainment|Legenda...       6/9/15       5562   \n",
       "1  Village Roadshow Pictures|Kennedy Miller Produ...      5/13/15       6185   \n",
       "2  Summit Entertainment|Mandeville Films|Red Wago...      3/18/15       2480   \n",
       "3          Lucasfilm|Truenorth Productions|Bad Robot     12/15/15       5292   \n",
       "4  Universal Pictures|Original Film|Media Rights ...       4/1/15       2947   \n",
       "\n",
       "   vote_average  release_year    budget_adj   revenue_adj  \n",
       "0           6.5          2015  1.379999e+08  1.392446e+09  \n",
       "1           7.1          2015  1.379999e+08  3.481613e+08  \n",
       "2           6.3          2015  1.012000e+08  2.716190e+08  \n",
       "3           7.5          2015  1.839999e+08  1.902723e+09  \n",
       "4           7.3          2015  1.747999e+08  1.385749e+09  \n",
       "\n",
       "[5 rows x 21 columns]"
      ]
     },
     "execution_count": 2,
     "metadata": {},
     "output_type": "execute_result"
    }
   ],
   "source": [
    "# Loading our data \n",
    "df = pd.read_csv('tmdb-movies.csv')\n",
    "df.head()"
   ]
  },
  {
   "cell_type": "code",
   "execution_count": 3,
   "metadata": {},
   "outputs": [
    {
     "name": "stdout",
     "output_type": "stream",
     "text": [
      "(10866, 21)\n"
     ]
    },
    {
     "data": {
      "text/plain": [
       "Index(['id', 'imdb_id', 'popularity', 'budget', 'revenue', 'original_title',\n",
       "       'cast', 'homepage', 'director', 'tagline', 'keywords', 'overview',\n",
       "       'runtime', 'genres', 'production_companies', 'release_date',\n",
       "       'vote_count', 'vote_average', 'release_year', 'budget_adj',\n",
       "       'revenue_adj'],\n",
       "      dtype='object')"
      ]
     },
     "execution_count": 3,
     "metadata": {},
     "output_type": "execute_result"
    }
   ],
   "source": [
    "#call the No. of rows and columns in the DataFrame and columns names\n",
    "print(df.shape)\n",
    "df.columns"
   ]
  },
  {
   "cell_type": "code",
   "execution_count": 4,
   "metadata": {
    "scrolled": true
   },
   "outputs": [
    {
     "name": "stdout",
     "output_type": "stream",
     "text": [
      "<class 'pandas.core.frame.DataFrame'>\n",
      "RangeIndex: 10866 entries, 0 to 10865\n",
      "Data columns (total 21 columns):\n",
      " #   Column                Non-Null Count  Dtype  \n",
      "---  ------                --------------  -----  \n",
      " 0   id                    10866 non-null  int64  \n",
      " 1   imdb_id               10856 non-null  object \n",
      " 2   popularity            10866 non-null  float64\n",
      " 3   budget                10866 non-null  int64  \n",
      " 4   revenue               10866 non-null  int64  \n",
      " 5   original_title        10866 non-null  object \n",
      " 6   cast                  10790 non-null  object \n",
      " 7   homepage              2936 non-null   object \n",
      " 8   director              10822 non-null  object \n",
      " 9   tagline               8042 non-null   object \n",
      " 10  keywords              9373 non-null   object \n",
      " 11  overview              10862 non-null  object \n",
      " 12  runtime               10866 non-null  int64  \n",
      " 13  genres                10843 non-null  object \n",
      " 14  production_companies  9836 non-null   object \n",
      " 15  release_date          10866 non-null  object \n",
      " 16  vote_count            10866 non-null  int64  \n",
      " 17  vote_average          10866 non-null  float64\n",
      " 18  release_year          10866 non-null  int64  \n",
      " 19  budget_adj            10866 non-null  float64\n",
      " 20  revenue_adj           10866 non-null  float64\n",
      "dtypes: float64(4), int64(6), object(11)\n",
      "memory usage: 1.7+ MB\n"
     ]
    }
   ],
   "source": [
    "#Call the count of values in each column to determine the columns with missing values and columns datatype\n",
    "df.info()"
   ]
  },
  {
   "cell_type": "markdown",
   "metadata": {},
   "source": [
    "**From the .info() method output, we find the following**\n",
    "\n",
    "    -We have two ID columns one of them has missing values so this is the one we will drop.\n",
    "    -The following columns won't be of value in our analysis so we can drop them, ['imdb_id','cast','homepage','tagline','keywords','overview']\n",
    "    -These columns have missing values \n",
    "     production_companies --->large number and no way to fill the NaN so we drop the column as we can't analyze it.\n",
    "     genres------------------>The missing values are not too many so we can drop the empty rows when we analyze this column\n",
    "     director---------------->The missing values are not too many so we can drop the empty rows when we analyze this column   \n",
    "    "
   ]
  },
  {
   "cell_type": "code",
   "execution_count": 5,
   "metadata": {},
   "outputs": [
    {
     "data": {
      "text/plain": [
       "Index(['id', 'popularity', 'budget', 'revenue', 'original_title', 'director',\n",
       "       'runtime', 'genres', 'release_date', 'vote_count', 'vote_average',\n",
       "       'release_year', 'budget_adj', 'revenue_adj'],\n",
       "      dtype='object')"
      ]
     },
     "execution_count": 5,
     "metadata": {},
     "output_type": "execute_result"
    }
   ],
   "source": [
    "df.drop(columns =['imdb_id','cast','homepage','tagline','keywords','overview','production_companies'],  axis = 1, inplace=True)\n",
    "df.columns"
   ]
  },
  {
   "cell_type": "code",
   "execution_count": 55,
   "metadata": {},
   "outputs": [
    {
     "name": "stdout",
     "output_type": "stream",
     "text": [
      "<class 'pandas.core.frame.DataFrame'>\n",
      "RangeIndex: 10866 entries, 0 to 10865\n",
      "Data columns (total 14 columns):\n",
      " #   Column          Non-Null Count  Dtype  \n",
      "---  ------          --------------  -----  \n",
      " 0   id              10866 non-null  int64  \n",
      " 1   popularity      10866 non-null  float64\n",
      " 2   budget          10866 non-null  int64  \n",
      " 3   revenue         10866 non-null  int64  \n",
      " 4   original_title  10866 non-null  object \n",
      " 5   director        10822 non-null  object \n",
      " 6   runtime         10866 non-null  int64  \n",
      " 7   genres          10843 non-null  object \n",
      " 8   release_date    10866 non-null  object \n",
      " 9   vote_count      10866 non-null  int64  \n",
      " 10  vote_average    10866 non-null  float64\n",
      " 11  release_year    10866 non-null  int64  \n",
      " 12  budget_adj      10866 non-null  float64\n",
      " 13  revenue_adj     10866 non-null  float64\n",
      "dtypes: float64(4), int64(6), object(4)\n",
      "memory usage: 1.2+ MB\n"
     ]
    }
   ],
   "source": [
    "df.info()"
   ]
  },
  {
   "cell_type": "code",
   "execution_count": 56,
   "metadata": {},
   "outputs": [
    {
     "name": "stdout",
     "output_type": "stream",
     "text": [
      "1\n"
     ]
    },
    {
     "data": {
      "text/plain": [
       "0"
      ]
     },
     "execution_count": 56,
     "metadata": {},
     "output_type": "execute_result"
    }
   ],
   "source": [
    "#Detect duplicated rows and remove them form the DataFrame \n",
    "print(sum(df.duplicated()))\n",
    "df.drop_duplicates(inplace = True)\n",
    "sum(df.duplicated())"
   ]
  },
  {
   "cell_type": "code",
   "execution_count": 57,
   "metadata": {},
   "outputs": [
    {
     "data": {
      "text/plain": [
       "dtype('O')"
      ]
     },
     "execution_count": 57,
     "metadata": {},
     "output_type": "execute_result"
    }
   ],
   "source": [
    "#Change the datatype of the releas_year column from int to str\n",
    "df['release_year'] = df['release_year'].astype(str)\n",
    "df['release_year'].dtypes"
   ]
  },
  {
   "cell_type": "code",
   "execution_count": 58,
   "metadata": {},
   "outputs": [
    {
     "data": {
      "text/plain": [
       "Hamlet                   4\n",
       "Life                     3\n",
       "The Three Musketeers     3\n",
       "Alice in Wonderland      3\n",
       "Julia                    3\n",
       "                        ..\n",
       "Life as a House          1\n",
       "Passion                  1\n",
       "The Fountain             1\n",
       "Give 'em Hell, Malone    1\n",
       "The Guvnors              1\n",
       "Name: original_title, Length: 10571, dtype: int64"
      ]
     },
     "execution_count": 58,
     "metadata": {},
     "output_type": "execute_result"
    }
   ],
   "source": [
    "#Detect the movie original_title duplicated values\n",
    "df['original_title'].value_counts()"
   ]
  },
  {
   "cell_type": "code",
   "execution_count": 59,
   "metadata": {},
   "outputs": [
    {
     "data": {
      "text/plain": [
       "By the Sea(2015) by Angelina Jolie                                                                 1\n",
       "The Dentist(1996) by Brian Yuzna                                                                   1\n",
       "Bitter Moon(1992) by Roman Polanski                                                                1\n",
       "Intimacy(2001) by Patrice ChÃ©reau                                                                 1\n",
       "2 Days in the Valley(1996) by John Herzfeld                                                        1\n",
       "                                                                                                  ..\n",
       "Horsehead(2014) by Romain Basset                                                                   1\n",
       "Virgin Territory(2007) by David Leland                                                             1\n",
       "The Matrix Revisited(2001) by Josh Oreck                                                           1\n",
       "Fly Me to the Moon(2008) by Ben Stassen                                                            1\n",
       "Don't Be a Menace to South Central While Drinking Your Juice in the Hood(1996) by Paris Barclay    1\n",
       "Name: movie_title, Length: 10821, dtype: int64"
      ]
     },
     "execution_count": 59,
     "metadata": {},
     "output_type": "execute_result"
    }
   ],
   "source": [
    "#Create a new Column with the movie title, the release year and the director\n",
    "df['movie_title']= df['original_title']+\"(\"+df['release_year']+\")\"+\" by \"+df['director']\n",
    "df['movie_title'].value_counts()"
   ]
  },
  {
   "cell_type": "code",
   "execution_count": 60,
   "metadata": {},
   "outputs": [
    {
     "data": {
      "text/plain": [
       "dtype('int32')"
      ]
     },
     "execution_count": 60,
     "metadata": {},
     "output_type": "execute_result"
    }
   ],
   "source": [
    "df['release_year']=df['release_year'].astype(int)\n",
    "df['release_year'].dtypes"
   ]
  },
  {
   "cell_type": "code",
   "execution_count": 61,
   "metadata": {},
   "outputs": [
    {
     "name": "stdout",
     "output_type": "stream",
     "text": [
      "17000000.0\n"
     ]
    },
    {
     "data": {
      "text/plain": [
       "17000000.0     5696\n",
       "37000000.0      190\n",
       "32000000.0      183\n",
       "42000000.0      178\n",
       "27000000.0      176\n",
       "               ... \n",
       "22400000.0        1\n",
       "22952000.0        1\n",
       "18746964.0        1\n",
       "66900000.0        1\n",
       "262000000.0       1\n",
       "Name: budget, Length: 557, dtype: int64"
      ]
     },
     "execution_count": 61,
     "metadata": {},
     "output_type": "execute_result"
    }
   ],
   "source": [
    "#Filtering the dataframe to exclude budget values that equals zero and calculate median value\n",
    "df_bud=df.query('budget !=0')\n",
    "med = df_bud['budget'].median()\n",
    "print(med)\n",
    "#This function with replace all the zero values with the calculated median of the available budgets\n",
    "def replace_0(x):\n",
    "    return x + med\n",
    "\n",
    "df['budget']= df['budget'].apply(replace_0)\n",
    "df['budget'].value_counts()"
   ]
  },
  {
   "cell_type": "code",
   "execution_count": 62,
   "metadata": {},
   "outputs": [
    {
     "name": "stdout",
     "output_type": "stream",
     "text": [
      "31853080.0\n"
     ]
    },
    {
     "data": {
      "text/plain": [
       "3.185308e+07    6016\n",
       "4.385308e+07      10\n",
       "4.185308e+07       8\n",
       "4.285308e+07       7\n",
       "3.685308e+07       6\n",
       "                ... \n",
       "9.861589e+08       1\n",
       "3.237775e+07       1\n",
       "1.112894e+09       1\n",
       "1.275267e+08       1\n",
       "1.325072e+08       1\n",
       "Name: revenue, Length: 4702, dtype: int64"
      ]
     },
     "execution_count": 62,
     "metadata": {},
     "output_type": "execute_result"
    }
   ],
   "source": [
    "#Filtering the dataframe to exclude revenue values that equals zero and calculate median value\n",
    "df_rev=df.query('revenue !=0')\n",
    "med = df_rev['revenue'].median()\n",
    "print(med)\n",
    "#Run the function on the revenue column to replace zero values with the calculated median\n",
    "df['revenue']= df['revenue'].apply(replace_0)\n",
    "df['revenue'].value_counts()"
   ]
  },
  {
   "cell_type": "markdown",
   "metadata": {},
   "source": [
    "**Now that the revenue and budget don't contain zero values we can calculate the profit and xcreate its column**"
   ]
  },
  {
   "cell_type": "code",
   "execution_count": 63,
   "metadata": {},
   "outputs": [
    {
     "data": {
      "text/plain": [
       " 14853080.0    4705\n",
       " 4853080.0       69\n",
       " 9853080.0       64\n",
       "-5146920.0       45\n",
       " 6853080.0       44\n",
       "               ... \n",
       " 33229372.0       1\n",
       " 96576438.0       1\n",
       "-13580283.0       1\n",
       " 10046142.0       1\n",
       " 36198080.0       1\n",
       "Name: profit, Length: 5007, dtype: int64"
      ]
     },
     "execution_count": 63,
     "metadata": {},
     "output_type": "execute_result"
    }
   ],
   "source": [
    "#Profit is calculated by substracting the budget for the revenue of a movie\n",
    "df['profit'] = df['revenue'] - df['budget']\n",
    "df['profit'].value_counts()"
   ]
  },
  {
   "cell_type": "code",
   "execution_count": 64,
   "metadata": {},
   "outputs": [
    {
     "data": {
      "text/html": [
       "<div>\n",
       "<style scoped>\n",
       "    .dataframe tbody tr th:only-of-type {\n",
       "        vertical-align: middle;\n",
       "    }\n",
       "\n",
       "    .dataframe tbody tr th {\n",
       "        vertical-align: top;\n",
       "    }\n",
       "\n",
       "    .dataframe thead th {\n",
       "        text-align: right;\n",
       "    }\n",
       "</style>\n",
       "<table border=\"1\" class=\"dataframe\">\n",
       "  <thead>\n",
       "    <tr style=\"text-align: right;\">\n",
       "      <th></th>\n",
       "      <th>id</th>\n",
       "      <th>popularity</th>\n",
       "      <th>budget</th>\n",
       "      <th>revenue</th>\n",
       "      <th>runtime</th>\n",
       "      <th>vote_count</th>\n",
       "      <th>vote_average</th>\n",
       "      <th>release_year</th>\n",
       "      <th>budget_adj</th>\n",
       "      <th>revenue_adj</th>\n",
       "      <th>profit</th>\n",
       "    </tr>\n",
       "  </thead>\n",
       "  <tbody>\n",
       "    <tr>\n",
       "      <th>count</th>\n",
       "      <td>10865.000000</td>\n",
       "      <td>10865.000000</td>\n",
       "      <td>1.086500e+04</td>\n",
       "      <td>1.086500e+04</td>\n",
       "      <td>10865.000000</td>\n",
       "      <td>10865.000000</td>\n",
       "      <td>10865.000000</td>\n",
       "      <td>10865.000000</td>\n",
       "      <td>1.086500e+04</td>\n",
       "      <td>1.086500e+04</td>\n",
       "      <td>1.086500e+04</td>\n",
       "    </tr>\n",
       "    <tr>\n",
       "      <th>mean</th>\n",
       "      <td>66066.374413</td>\n",
       "      <td>0.646446</td>\n",
       "      <td>3.162429e+07</td>\n",
       "      <td>7.167998e+07</td>\n",
       "      <td>102.071790</td>\n",
       "      <td>217.399632</td>\n",
       "      <td>5.975012</td>\n",
       "      <td>2001.321859</td>\n",
       "      <td>1.754989e+07</td>\n",
       "      <td>5.136900e+07</td>\n",
       "      <td>4.005569e+07</td>\n",
       "    </tr>\n",
       "    <tr>\n",
       "      <th>std</th>\n",
       "      <td>92134.091971</td>\n",
       "      <td>1.000231</td>\n",
       "      <td>3.091428e+07</td>\n",
       "      <td>1.170083e+08</td>\n",
       "      <td>31.382701</td>\n",
       "      <td>575.644627</td>\n",
       "      <td>0.935138</td>\n",
       "      <td>12.813260</td>\n",
       "      <td>3.430753e+07</td>\n",
       "      <td>1.446383e+08</td>\n",
       "      <td>9.659103e+07</td>\n",
       "    </tr>\n",
       "    <tr>\n",
       "      <th>min</th>\n",
       "      <td>5.000000</td>\n",
       "      <td>0.000065</td>\n",
       "      <td>1.700000e+07</td>\n",
       "      <td>3.185308e+07</td>\n",
       "      <td>0.000000</td>\n",
       "      <td>10.000000</td>\n",
       "      <td>1.500000</td>\n",
       "      <td>1960.000000</td>\n",
       "      <td>0.000000e+00</td>\n",
       "      <td>0.000000e+00</td>\n",
       "      <td>-3.990594e+08</td>\n",
       "    </tr>\n",
       "    <tr>\n",
       "      <th>25%</th>\n",
       "      <td>10596.000000</td>\n",
       "      <td>0.207575</td>\n",
       "      <td>1.700000e+07</td>\n",
       "      <td>3.185308e+07</td>\n",
       "      <td>90.000000</td>\n",
       "      <td>17.000000</td>\n",
       "      <td>5.400000</td>\n",
       "      <td>1995.000000</td>\n",
       "      <td>0.000000e+00</td>\n",
       "      <td>0.000000e+00</td>\n",
       "      <td>1.485308e+07</td>\n",
       "    </tr>\n",
       "    <tr>\n",
       "      <th>50%</th>\n",
       "      <td>20662.000000</td>\n",
       "      <td>0.383831</td>\n",
       "      <td>1.700000e+07</td>\n",
       "      <td>3.185308e+07</td>\n",
       "      <td>99.000000</td>\n",
       "      <td>38.000000</td>\n",
       "      <td>6.000000</td>\n",
       "      <td>2006.000000</td>\n",
       "      <td>0.000000e+00</td>\n",
       "      <td>0.000000e+00</td>\n",
       "      <td>1.485308e+07</td>\n",
       "    </tr>\n",
       "    <tr>\n",
       "      <th>75%</th>\n",
       "      <td>75612.000000</td>\n",
       "      <td>0.713857</td>\n",
       "      <td>3.200000e+07</td>\n",
       "      <td>5.585308e+07</td>\n",
       "      <td>111.000000</td>\n",
       "      <td>146.000000</td>\n",
       "      <td>6.600000</td>\n",
       "      <td>2011.000000</td>\n",
       "      <td>2.085325e+07</td>\n",
       "      <td>3.370173e+07</td>\n",
       "      <td>2.394553e+07</td>\n",
       "    </tr>\n",
       "    <tr>\n",
       "      <th>max</th>\n",
       "      <td>417859.000000</td>\n",
       "      <td>32.985763</td>\n",
       "      <td>4.420000e+08</td>\n",
       "      <td>2.813359e+09</td>\n",
       "      <td>900.000000</td>\n",
       "      <td>9767.000000</td>\n",
       "      <td>9.200000</td>\n",
       "      <td>2015.000000</td>\n",
       "      <td>4.250000e+08</td>\n",
       "      <td>2.827124e+09</td>\n",
       "      <td>2.559359e+09</td>\n",
       "    </tr>\n",
       "  </tbody>\n",
       "</table>\n",
       "</div>"
      ],
      "text/plain": [
       "                  id    popularity        budget       revenue       runtime  \\\n",
       "count   10865.000000  10865.000000  1.086500e+04  1.086500e+04  10865.000000   \n",
       "mean    66066.374413      0.646446  3.162429e+07  7.167998e+07    102.071790   \n",
       "std     92134.091971      1.000231  3.091428e+07  1.170083e+08     31.382701   \n",
       "min         5.000000      0.000065  1.700000e+07  3.185308e+07      0.000000   \n",
       "25%     10596.000000      0.207575  1.700000e+07  3.185308e+07     90.000000   \n",
       "50%     20662.000000      0.383831  1.700000e+07  3.185308e+07     99.000000   \n",
       "75%     75612.000000      0.713857  3.200000e+07  5.585308e+07    111.000000   \n",
       "max    417859.000000     32.985763  4.420000e+08  2.813359e+09    900.000000   \n",
       "\n",
       "         vote_count  vote_average  release_year    budget_adj   revenue_adj  \\\n",
       "count  10865.000000  10865.000000  10865.000000  1.086500e+04  1.086500e+04   \n",
       "mean     217.399632      5.975012   2001.321859  1.754989e+07  5.136900e+07   \n",
       "std      575.644627      0.935138     12.813260  3.430753e+07  1.446383e+08   \n",
       "min       10.000000      1.500000   1960.000000  0.000000e+00  0.000000e+00   \n",
       "25%       17.000000      5.400000   1995.000000  0.000000e+00  0.000000e+00   \n",
       "50%       38.000000      6.000000   2006.000000  0.000000e+00  0.000000e+00   \n",
       "75%      146.000000      6.600000   2011.000000  2.085325e+07  3.370173e+07   \n",
       "max     9767.000000      9.200000   2015.000000  4.250000e+08  2.827124e+09   \n",
       "\n",
       "             profit  \n",
       "count  1.086500e+04  \n",
       "mean   4.005569e+07  \n",
       "std    9.659103e+07  \n",
       "min   -3.990594e+08  \n",
       "25%    1.485308e+07  \n",
       "50%    1.485308e+07  \n",
       "75%    2.394553e+07  \n",
       "max    2.559359e+09  "
      ]
     },
     "execution_count": 64,
     "metadata": {},
     "output_type": "execute_result"
    }
   ],
   "source": [
    "#examine the statistical values of the  dataframe\n",
    "df.describe()"
   ]
  },
  {
   "cell_type": "code",
   "execution_count": 65,
   "metadata": {},
   "outputs": [
    {
     "data": {
      "image/png": "[encoded data removed]",
      "text/plain": [
       "<Figure size 1080x1080 with 12 Axes>"
      ]
     },
     "metadata": {},
     "output_type": "display_data"
    }
   ],
   "source": [
    "df.hist(figsize = (15,15));"
   ]
  },
  {
   "cell_type": "code",
   "execution_count": 66,
   "metadata": {},
   "outputs": [
    {
     "data": {
      "text/plain": [
       "9     1331\n",
       "10    1153\n",
       "12     985\n",
       "1      919\n",
       "8      918\n",
       "6      827\n",
       "3      822\n",
       "11     814\n",
       "5      809\n",
       "7      799\n",
       "4      797\n",
       "2      691\n",
       "Name: month, dtype: int64"
      ]
     },
     "execution_count": 66,
     "metadata": {},
     "output_type": "execute_result"
    }
   ],
   "source": [
    "#Create a new Column for month of release as data type int\n",
    "df['month'] = df.release_date.str.split(\"/\",expand=True)[0].astype(int)\n",
    "df['month'].value_counts()"
   ]
  },
  {
   "cell_type": "code",
   "execution_count": 67,
   "metadata": {},
   "outputs": [
    {
     "data": {
      "image/png": "[encoded data removed]",
      "text/plain": [
       "<Figure size 432x288 with 1 Axes>"
      ]
     },
     "metadata": {},
     "output_type": "display_data"
    }
   ],
   "source": [
    "df['month'].hist(bins = 12)\n",
    "plt.title('fig(1) Number Of Movies Released Per Month', fontsize = 20)\n",
    "plt.xlabel('Month', fontsize = 15)\n",
    "plt.ylabel('Number of movies', fontsize = 15);"
   ]
  },
  {
   "cell_type": "markdown",
   "metadata": {},
   "source": [
    "**By plotting the months bar plot, It appears that movie releases are more occuring in the months of September, October, December and January respectively.** "
   ]
  },
  {
   "cell_type": "code",
   "execution_count": 68,
   "metadata": {},
   "outputs": [
    {
     "data": {
      "image/png": "[encoded data removed]",
      "text/plain": [
       "<Figure size 432x288 with 1 Axes>"
      ]
     },
     "metadata": {},
     "output_type": "display_data"
    }
   ],
   "source": [
    "#Plot the correlation between budjet and profit\n",
    "plt.scatter(df['profit'],df['budget'])\n",
    "plt.title('fig(2) Correlation Between Budget And Profit', fontsize = 20)\n",
    "plt.xlabel('Profit', fontsize = 15)\n",
    "plt.ylabel('Budget', fontsize = 15);"
   ]
  },
  {
   "cell_type": "markdown",
   "metadata": {},
   "source": [
    "**From this plot we find that the increase in budget most of the time result in an increase in profit**"
   ]
  },
  {
   "cell_type": "code",
   "execution_count": 69,
   "metadata": {},
   "outputs": [
    {
     "data": {
      "text/html": [
       "<div>\n",
       "<style scoped>\n",
       "    .dataframe tbody tr th:only-of-type {\n",
       "        vertical-align: middle;\n",
       "    }\n",
       "\n",
       "    .dataframe tbody tr th {\n",
       "        vertical-align: top;\n",
       "    }\n",
       "\n",
       "    .dataframe thead th {\n",
       "        text-align: right;\n",
       "    }\n",
       "</style>\n",
       "<table border=\"1\" class=\"dataframe\">\n",
       "  <thead>\n",
       "    <tr style=\"text-align: right;\">\n",
       "      <th></th>\n",
       "      <th>id</th>\n",
       "      <th>popularity</th>\n",
       "      <th>budget</th>\n",
       "      <th>revenue</th>\n",
       "      <th>runtime</th>\n",
       "      <th>vote_count</th>\n",
       "      <th>vote_average</th>\n",
       "      <th>release_year</th>\n",
       "      <th>budget_adj</th>\n",
       "      <th>revenue_adj</th>\n",
       "      <th>profit</th>\n",
       "      <th>month</th>\n",
       "    </tr>\n",
       "  </thead>\n",
       "  <tbody>\n",
       "    <tr>\n",
       "      <th>count</th>\n",
       "      <td>10862.000000</td>\n",
       "      <td>10862.000000</td>\n",
       "      <td>1.086200e+04</td>\n",
       "      <td>1.086200e+04</td>\n",
       "      <td>10862.000000</td>\n",
       "      <td>10862.000000</td>\n",
       "      <td>10862.000000</td>\n",
       "      <td>10862.000000</td>\n",
       "      <td>1.086200e+04</td>\n",
       "      <td>1.086200e+04</td>\n",
       "      <td>1.086200e+04</td>\n",
       "      <td>10862.000000</td>\n",
       "    </tr>\n",
       "    <tr>\n",
       "      <th>mean</th>\n",
       "      <td>66050.642976</td>\n",
       "      <td>0.638674</td>\n",
       "      <td>3.158552e+07</td>\n",
       "      <td>7.145955e+07</td>\n",
       "      <td>102.061959</td>\n",
       "      <td>215.779967</td>\n",
       "      <td>5.974673</td>\n",
       "      <td>2001.318173</td>\n",
       "      <td>1.751534e+07</td>\n",
       "      <td>5.117022e+07</td>\n",
       "      <td>3.987404e+07</td>\n",
       "      <td>6.827472</td>\n",
       "    </tr>\n",
       "    <tr>\n",
       "      <th>std</th>\n",
       "      <td>92140.198156</td>\n",
       "      <td>0.882601</td>\n",
       "      <td>3.083016e+07</td>\n",
       "      <td>1.159869e+08</td>\n",
       "      <td>31.379285</td>\n",
       "      <td>567.375372</td>\n",
       "      <td>0.934989</td>\n",
       "      <td>12.813107</td>\n",
       "      <td>3.424901e+07</td>\n",
       "      <td>1.439697e+08</td>\n",
       "      <td>9.563738e+07</td>\n",
       "      <td>3.441953</td>\n",
       "    </tr>\n",
       "    <tr>\n",
       "      <th>min</th>\n",
       "      <td>5.000000</td>\n",
       "      <td>0.000065</td>\n",
       "      <td>1.700000e+07</td>\n",
       "      <td>3.185308e+07</td>\n",
       "      <td>0.000000</td>\n",
       "      <td>10.000000</td>\n",
       "      <td>1.500000</td>\n",
       "      <td>1960.000000</td>\n",
       "      <td>0.000000e+00</td>\n",
       "      <td>0.000000e+00</td>\n",
       "      <td>-3.990594e+08</td>\n",
       "      <td>1.000000</td>\n",
       "    </tr>\n",
       "    <tr>\n",
       "      <th>25%</th>\n",
       "      <td>10593.750000</td>\n",
       "      <td>0.207549</td>\n",
       "      <td>1.700000e+07</td>\n",
       "      <td>3.185308e+07</td>\n",
       "      <td>90.000000</td>\n",
       "      <td>17.000000</td>\n",
       "      <td>5.400000</td>\n",
       "      <td>1995.000000</td>\n",
       "      <td>0.000000e+00</td>\n",
       "      <td>0.000000e+00</td>\n",
       "      <td>1.485308e+07</td>\n",
       "      <td>4.000000</td>\n",
       "    </tr>\n",
       "    <tr>\n",
       "      <th>50%</th>\n",
       "      <td>20652.500000</td>\n",
       "      <td>0.383818</td>\n",
       "      <td>1.700000e+07</td>\n",
       "      <td>3.185308e+07</td>\n",
       "      <td>99.000000</td>\n",
       "      <td>38.000000</td>\n",
       "      <td>6.000000</td>\n",
       "      <td>2006.000000</td>\n",
       "      <td>0.000000e+00</td>\n",
       "      <td>0.000000e+00</td>\n",
       "      <td>1.485308e+07</td>\n",
       "      <td>7.000000</td>\n",
       "    </tr>\n",
       "    <tr>\n",
       "      <th>75%</th>\n",
       "      <td>75556.750000</td>\n",
       "      <td>0.713181</td>\n",
       "      <td>3.200000e+07</td>\n",
       "      <td>5.582135e+07</td>\n",
       "      <td>111.000000</td>\n",
       "      <td>145.000000</td>\n",
       "      <td>6.600000</td>\n",
       "      <td>2011.000000</td>\n",
       "      <td>2.080566e+07</td>\n",
       "      <td>3.367755e+07</td>\n",
       "      <td>2.389219e+07</td>\n",
       "      <td>10.000000</td>\n",
       "    </tr>\n",
       "    <tr>\n",
       "      <th>max</th>\n",
       "      <td>417859.000000</td>\n",
       "      <td>14.311205</td>\n",
       "      <td>4.420000e+08</td>\n",
       "      <td>2.813359e+09</td>\n",
       "      <td>900.000000</td>\n",
       "      <td>9767.000000</td>\n",
       "      <td>9.200000</td>\n",
       "      <td>2015.000000</td>\n",
       "      <td>4.250000e+08</td>\n",
       "      <td>2.827124e+09</td>\n",
       "      <td>2.559359e+09</td>\n",
       "      <td>12.000000</td>\n",
       "    </tr>\n",
       "  </tbody>\n",
       "</table>\n",
       "</div>"
      ],
      "text/plain": [
       "                  id    popularity        budget       revenue       runtime  \\\n",
       "count   10862.000000  10862.000000  1.086200e+04  1.086200e+04  10862.000000   \n",
       "mean    66050.642976      0.638674  3.158552e+07  7.145955e+07    102.061959   \n",
       "std     92140.198156      0.882601  3.083016e+07  1.159869e+08     31.379285   \n",
       "min         5.000000      0.000065  1.700000e+07  3.185308e+07      0.000000   \n",
       "25%     10593.750000      0.207549  1.700000e+07  3.185308e+07     90.000000   \n",
       "50%     20652.500000      0.383818  1.700000e+07  3.185308e+07     99.000000   \n",
       "75%     75556.750000      0.713181  3.200000e+07  5.582135e+07    111.000000   \n",
       "max    417859.000000     14.311205  4.420000e+08  2.813359e+09    900.000000   \n",
       "\n",
       "         vote_count  vote_average  release_year    budget_adj   revenue_adj  \\\n",
       "count  10862.000000  10862.000000  10862.000000  1.086200e+04  1.086200e+04   \n",
       "mean     215.779967      5.974673   2001.318173  1.751534e+07  5.117022e+07   \n",
       "std      567.375372      0.934989     12.813107  3.424901e+07  1.439697e+08   \n",
       "min       10.000000      1.500000   1960.000000  0.000000e+00  0.000000e+00   \n",
       "25%       17.000000      5.400000   1995.000000  0.000000e+00  0.000000e+00   \n",
       "50%       38.000000      6.000000   2006.000000  0.000000e+00  0.000000e+00   \n",
       "75%      145.000000      6.600000   2011.000000  2.080566e+07  3.367755e+07   \n",
       "max     9767.000000      9.200000   2015.000000  4.250000e+08  2.827124e+09   \n",
       "\n",
       "             profit         month  \n",
       "count  1.086200e+04  10862.000000  \n",
       "mean   3.987404e+07      6.827472  \n",
       "std    9.563738e+07      3.441953  \n",
       "min   -3.990594e+08      1.000000  \n",
       "25%    1.485308e+07      4.000000  \n",
       "50%    1.485308e+07      7.000000  \n",
       "75%    2.389219e+07     10.000000  \n",
       "max    2.559359e+09     12.000000  "
      ]
     },
     "execution_count": 69,
     "metadata": {},
     "output_type": "execute_result"
    }
   ],
   "source": [
    "#remove popularity outliars for better visualizations and analysis\n",
    "df_pop=df.query('popularity < 20')\n",
    "df_pop.describe()"
   ]
  },
  {
   "cell_type": "code",
   "execution_count": 70,
   "metadata": {
    "scrolled": true
   },
   "outputs": [
    {
     "data": {
      "image/png": "[encoded data removed]",
      "text/plain": [
       "<Figure size 432x288 with 1 Axes>"
      ]
     },
     "metadata": {},
     "output_type": "display_data"
    }
   ],
   "source": [
    "#Plot the correlation between profit and popularity\n",
    "plt.scatter(df_pop['profit'],df_pop['popularity'])\n",
    "plt.title('fig(3)Correlation Between Profit And Popularity', fontsize = 20)\n",
    "plt.xlabel('Profit', fontsize = 15)\n",
    "plt.ylabel('Popularity', fontsize = 15);"
   ]
  },
  {
   "cell_type": "markdown",
   "metadata": {},
   "source": [
    "**From this plot we find that the more the movie is popular the more profit it generates which is logical**"
   ]
  },
  {
   "cell_type": "code",
   "execution_count": 71,
   "metadata": {},
   "outputs": [
    {
     "data": {
      "image/png": "[encoded data removed]",
      "text/plain": [
       "<Figure size 432x288 with 1 Axes>"
      ]
     },
     "metadata": {},
     "output_type": "display_data"
    }
   ],
   "source": [
    "#Plot the correlation between vote average and popularity\n",
    "plt.scatter(df_pop['vote_average'],df_pop['popularity'])\n",
    "plt.title('fig(4)Correlation Between Vote Average And Popularity', fontsize = 20)\n",
    "plt.xlabel('Vote Average', fontsize = 15)\n",
    "plt.ylabel('Popularity', fontsize = 15);"
   ]
  },
  {
   "cell_type": "markdown",
   "metadata": {},
   "source": [
    "**Looks like popular movies are rated with higher vote average**"
   ]
  },
  {
   "cell_type": "code",
   "execution_count": 77,
   "metadata": {},
   "outputs": [
    {
     "data": {
      "image/png": "[encoded data removed]",
      "text/plain": [
       "<Figure size 432x288 with 1 Axes>"
      ]
     },
     "metadata": {},
     "output_type": "display_data"
    }
   ],
   "source": [
    "#Plot the correlation between popularity and movie runtime\n",
    "plt.scatter(df_pop['runtime'],df_pop['popularity'])\n",
    "plt.title('Correlation Between Runtime And popularity', fontsize = 20)\n",
    "plt.xlabel('Runtime', fontsize = 15)\n",
    "plt.ylabel('Popularity', fontsize = 15);"
   ]
  },
  {
   "cell_type": "markdown",
   "metadata": {},
   "source": [
    "**We can visualize this correlation in a cleaner more clear way as a bar plot through binning**"
   ]
  },
  {
   "cell_type": "code",
   "execution_count": 73,
   "metadata": {},
   "outputs": [
    {
     "name": "stderr",
     "output_type": "stream",
     "text": [
      "<ipython-input-73-3cccbaccf58e>:4: SettingWithCopyWarning: \n",
      "A value is trying to be set on a copy of a slice from a DataFrame.\n",
      "Try using .loc[row_indexer,col_indexer] = value instead\n",
      "\n",
      "See the caveats in the documentation: https://pandas.pydata.org/pandas-docs/stable/user_guide/indexing.html#returning-a-view-versus-a-copy\n",
      "  df_pop['runtime_range']=pd.cut(df_pop['runtime'], range_edges, labels=range_labels)\n"
     ]
    },
    {
     "data": {
      "text/plain": [
       "1-2hrs    8942\n",
       "2-3hrs    1450\n",
       "0-1hr      311\n",
       ">3hrs      128\n",
       "Name: runtime_range, dtype: int64"
      ]
     },
     "execution_count": 73,
     "metadata": {},
     "output_type": "execute_result"
    }
   ],
   "source": [
    "#creating a runtime ranges \n",
    "range_edges = [0,60,120,180,900]\n",
    "range_labels = ['0-1hr','1-2hrs','2-3hrs','>3hrs']\n",
    "df_pop['runtime_range']=pd.cut(df_pop['runtime'], range_edges, labels=range_labels)\n",
    "df_pop['runtime_range'].value_counts()"
   ]
  },
  {
   "cell_type": "code",
   "execution_count": 78,
   "metadata": {
    "scrolled": true
   },
   "outputs": [
    {
     "data": {
      "image/png": "[encoded data removed]",
      "text/plain": [
       "<Figure size 432x288 with 1 Axes>"
      ]
     },
     "metadata": {},
     "output_type": "display_data"
    }
   ],
   "source": [
    "run_range_pop = df_pop.groupby('runtime_range')['popularity'].mean().plot(kind = 'bar')\n",
    "plt.title('fig(5)Average Popularity By Runtime Range', fontsize = 20)\n",
    "plt.xlabel('Runtime Range', fontsize = 15)\n",
    "plt.ylabel('Popularity', fontsize = 15);"
   ]
  },
  {
   "cell_type": "markdown",
   "metadata": {},
   "source": [
    "**This plot shows that the most popular movie runtime is 2:3 hours**"
   ]
  },
  {
   "cell_type": "code",
   "execution_count": 85,
   "metadata": {},
   "outputs": [
    {
     "data": {
      "image/png": "[encoded data removed]",
      "text/plain": [
       "<Figure size 432x288 with 1 Axes>"
      ]
     },
     "metadata": {},
     "output_type": "display_data"
    }
   ],
   "source": [
    "df.plot(y = 'release_year', bins = 28, kind = 'hist')\n",
    "plt.title('fig(6)Movie Production Progress', fontsize = 20)\n",
    "plt.xlabel('Years',fontsize = 15)\n",
    "plt.ylabel('Movies',fontsize = 15);"
   ]
  },
  {
   "cell_type": "markdown",
   "metadata": {},
   "source": [
    "**This histogram shows the increase in the size of the cinematic production over the years**"
   ]
  },
  {
   "cell_type": "code",
   "execution_count": 76,
   "metadata": {},
   "outputs": [
    {
     "name": "stdout",
     "output_type": "stream",
     "text": [
      "Movie with highest profit:\n",
      "1386    Avatar(2009) by James Cameron\n",
      "Name: movie_title, dtype: object\n",
      "--------------------------------------------------\n",
      "Movie with highest budget:\n",
      "2244    The Warrior's Way(2010) by Sngmoo Lee\n",
      "Name: movie_title, dtype: object\n",
      "--------------------------------------------------\n",
      "Movie with highest average votes:\n",
      "3894    The Story of Film: An Odyssey(2011) by Mark Co...\n",
      "Name: movie_title, dtype: object\n",
      "--------------------------------------------------\n"
     ]
    }
   ],
   "source": [
    "#To get the movie with the highest metrics\n",
    "def movie_max(col):\n",
    "    return df.loc[df[col]== df[col].max()]\n",
    "print('Movie with highest profit:')\n",
    "print(movie_max('profit')['movie_title'])\n",
    "print(\"-\"*50)\n",
    "print('Movie with highest budget:')\n",
    "print(movie_max('budget')['movie_title'])\n",
    "print(\"-\"*50)\n",
    "print('Movie with highest average votes:')\n",
    "print(movie_max('vote_average')['movie_title'])\n",
    "print(\"-\"*50)"
   ]
  },
  {
   "cell_type": "markdown",
   "metadata": {},
   "source": [
    "**Movie with highest profit:\n",
    "Avatar(2009) by James Cameron**\n",
    "\n",
    "**Movie with highest budget:\n",
    "The Warrior's Way(2010) by Sngmoo Lee**\n",
    "\n",
    "**Movie with highest average votes:\n",
    "The Story of Film: An Odyssey(2011) by Mark Co...**"
   ]
  },
  {
   "cell_type": "markdown",
   "metadata": {},
   "source": [
    "## Conclusion:\n",
    "- Q: **Which months are most popular for a movie production company to release a movie in?**\n",
    "      -A: Movie releases are more occuring in the months of September, October, December and January respectively as per fig(1)\n",
    "- Q: **How does the budget spent on a movie affect its profit?**\n",
    "      -A: The increase in budget most of the time result in an increase in profit as per fig(2)\n",
    "- Q: **If a movie is very popular does that mean it will produce high profit?**\n",
    "      -A: The more the movie is popular the more profit it generates which is logicalas per fig(3)\n",
    "- Q: **What is the correlation between the average movie rating and its popularity?** \n",
    "      -A: Popular movies are rated with higher vote average as per fig(4)\n",
    "- Q: **What is the most popular movie runtime?**\n",
    "      -A: The most popular movie runtime is 2:3 hours as per fig(5)\n",
    "- Q: **How did the cinematic industry magnitude change over the years?**\n",
    "      -A: Fig(6) histogram shows the increase in the size of the cinematic production over the years\n",
    "-Q:**Which movie had the highest revenue, budget, rating in the last 5 years?**\n",
    "-A:Movie with highest **profit**: **(Avatar(2009) by James Cameron)**\n",
    "\n",
    "Movie with highest **budget**: **(The Warrior's Way(2010) by Sngmoo Lee)**\n",
    "\n",
    "Movie with highest **average votes**: **(The Story of Film: An Odyssey(2011) by Mark Co...)**\n"
   ]
  },
  {
   "cell_type": "markdown",
   "metadata": {},
   "source": [
    "## Data Limitations:\n",
    "\n",
    "- The revenue and the budget columns had a large number of zero values which I had to replace with the median with the valid values for each column to carry out the analysis\n",
    "- The production company column had many missing values which would've givven misleading analysis and there'sno way to fill this data effectively "
   ]
  },
  {
   "cell_type": "code",
   "execution_count": null,
   "metadata": {
    "collapsed": true
   },
   "outputs": [],
   "source": []
  }
 ],
 "metadata": {
  "kernelspec": {
   "display_name": "Python 3",
   "language": "python",
   "name": "python3"
  },
  "language_info": {
   "codemirror_mode": {
    "name": "ipython",
    "version": 3
   },
   "file_extension": ".py",
   "mimetype": "text/x-python",
   "name": "python",
   "nbconvert_exporter": "python",
   "pygments_lexer": "ipython3",
   "version": "3.8.8"
  }
 },
 "nbformat": 4,
 "nbformat_minor": 2
}
